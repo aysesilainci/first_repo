{
 "cells": [
  {
   "cell_type": "code",
   "execution_count": 11,
   "id": "6aa99b26-a883-4d1a-934a-cd9b6f563ee7",
   "metadata": {},
   "outputs": [
    {
     "name": "stdout",
     "output_type": "stream",
     "text": [
      "(10, 1)\n",
      "(11, 2)\n",
      "(12, 3)\n",
      "(13, 4)\n",
      "(14, 5)\n",
      "(15, 6)\n",
      "(16, 7)\n",
      "(17, 8)\n",
      "(18, 9)\n",
      "(19, 10)\n",
      "(20, 11)\n",
      "(21, 12)\n",
      "(22, 13)\n",
      "(23, 14)\n",
      "(24, 15)\n",
      "(25, 16)\n",
      "(26, 17)\n",
      "(27, 18)\n",
      "(28, 19)\n",
      "(29, 20)\n",
      "(30, 21)\n",
      "(31, 22)\n",
      "(32, 23)\n",
      "(33, 24)\n",
      "(34, 25)\n",
      "(35, 26)\n",
      "(36, 27)\n",
      "(37, 28)\n",
      "(38, 29)\n",
      "(39, 30)\n",
      "(40, 31)\n",
      "(41, 32)\n",
      "(42, 33)\n",
      "(43, 34)\n",
      "(44, 35)\n",
      "(45, 36)\n",
      "(46, 37)\n",
      "(47, 38)\n",
      "(48, 39)\n",
      "(49, 40)\n",
      "(50, 41)\n",
      "(51, 42)\n",
      "(52, 43)\n",
      "(53, 44)\n",
      "(54, 45)\n",
      "(55, 46)\n",
      "(56, 47)\n",
      "(57, 48)\n",
      "(58, 49)\n",
      "(59, 50)\n",
      "(60, 51)\n",
      "(61, 52)\n",
      "(62, 53)\n",
      "(63, 54)\n",
      "(64, 55)\n",
      "(65, 56)\n",
      "(66, 57)\n",
      "(67, 58)\n",
      "(68, 59)\n",
      "(69, 60)\n",
      "(70, 61)\n",
      "(71, 62)\n",
      "(72, 63)\n",
      "(73, 64)\n",
      "(74, 65)\n",
      "(75, 66)\n",
      "(76, 67)\n",
      "(77, 68)\n",
      "(78, 69)\n",
      "(79, 70)\n",
      "(80, 71)\n",
      "(81, 72)\n",
      "(82, 73)\n",
      "(83, 74)\n",
      "(84, 75)\n",
      "(85, 76)\n",
      "(86, 77)\n",
      "(87, 78)\n",
      "(88, 79)\n",
      "(89, 80)\n",
      "(90, 81)\n",
      "(91, 82)\n",
      "(92, 83)\n",
      "(93, 84)\n",
      "(94, 85)\n",
      "(95, 86)\n",
      "(96, 87)\n",
      "(97, 88)\n",
      "(98, 89)\n",
      "(99, 90)\n",
      "(100, 91)\n",
      "(101, 92)\n",
      "(102, 93)\n",
      "(103, 94)\n",
      "(104, 95)\n",
      "(105, 96)\n",
      "(106, 97)\n",
      "(107, 98)\n",
      "(108, 99)\n"
     ]
    }
   ],
   "source": [
    "for eleman in enumerate(list(range(1,100)),start=10):\n",
    "    print(eleman)"
   ]
  },
  {
   "cell_type": "code",
   "execution_count": 14,
   "id": "82b29115-cbe0-48b5-9a5b-f42662e1f4e6",
   "metadata": {},
   "outputs": [
    {
     "data": {
      "text/plain": [
       "43"
      ]
     },
     "execution_count": 14,
     "metadata": {},
     "output_type": "execute_result"
    }
   ],
   "source": [
    "\n",
    "\n",
    "from random import randint\n",
    "randint(1,100)"
   ]
  },
  {
   "cell_type": "code",
   "execution_count": 1,
   "id": "b41734bc-90e1-4459-a4ee-957aaaa0da12",
   "metadata": {},
   "outputs": [
    {
     "name": "stdout",
     "output_type": "stream",
     "text": [
      "[1, 2, 3, 4, 5, 6, 7, 8, 9, 10, 11, 12, 13, 14, 15, 16, 17, 18, 19, 20, 21, 22, 23, 24, 25, 26, 27, 28, 29, 30, 31, 32, 33, 34, 35, 36, 37, 38, 39, 40, 41, 42, 43, 44, 45, 46, 47, 48, 49, 50, 51, 52, 53, 54, 55, 56, 57, 58, 59, 60, 61, 62, 63, 64, 65, 66, 67, 68, 69, 70, 71, 72, 73, 74, 75, 76, 77, 78, 79, 80, 81, 82, 83, 84, 85, 86, 87, 88, 89, 90, 91, 92, 93, 94, 95, 96, 97, 98, 99]\n"
     ]
    },
    {
     "ename": "NameError",
     "evalue": "name 'randint' is not defined",
     "output_type": "error",
     "traceback": [
      "\u001b[1;31m---------------------------------------------------------------------------\u001b[0m",
      "\u001b[1;31mNameError\u001b[0m                                 Traceback (most recent call last)",
      "Cell \u001b[1;32mIn[1], line 3\u001b[0m\n\u001b[0;32m      1\u001b[0m listem\u001b[38;5;241m=\u001b[39m\u001b[38;5;28mlist\u001b[39m(\u001b[38;5;28mrange\u001b[39m(\u001b[38;5;241m1\u001b[39m,\u001b[38;5;241m100\u001b[39m))\n\u001b[0;32m      2\u001b[0m \u001b[38;5;28mprint\u001b[39m(listem)\n\u001b[1;32m----> 3\u001b[0m listem(randint(\u001b[38;5;241m0\u001b[39m,\u001b[38;5;28mlen\u001b[39m(listem)\u001b[38;5;241m-\u001b[39m\u001b[38;5;241m1\u001b[39m))\n",
      "\u001b[1;31mNameError\u001b[0m: name 'randint' is not defined"
     ]
    }
   ],
   "source": [
    "\n",
    "listem=list(range(1,100))\n",
    "print(listem)\n",
    "listem(randint(0,len(listem)-1))\n",
    "      "
   ]
  },
  {
   "cell_type": "code",
   "execution_count": 2,
   "id": "a5a6bd38-1825-4bd9-92fc-fc3c9b938138",
   "metadata": {},
   "outputs": [
    {
     "name": "stdout",
     "output_type": "stream",
     "text": [
      "[4, 1, 3, 9, 11, 10, 7, 6, 2, 5, 8, 12]\n"
     ]
    }
   ],
   "source": [
    "from random import shuffle\n",
    "\n",
    "listem = [1, 2, 3, 4, 5, 6, 7, 8, 9, 10, 11, 12] \n",
    "shuffle(listem)\n",
    "print(listem)\n"
   ]
  },
  {
   "cell_type": "code",
   "execution_count": 3,
   "id": "3c560f9c-f565-4d5c-9fff-541d47b45b69",
   "metadata": {},
   "outputs": [
    {
     "name": "stdout",
     "output_type": "stream",
     "text": [
      "[3, 2, 7, 11, 5, 6, 8, 1, 4, 9, 10, 12]\n"
     ]
    }
   ],
   "source": [
    "from random import shuffle\n",
    "listem=[1,2,3,4,5,6,7,8,9,10,11,12]\n",
    "shuffle(listem)\n",
    "print(listem)"
   ]
  },
  {
   "cell_type": "code",
   "execution_count": null,
   "id": "2561e446-59de-4368-a5fd-a7656932001d",
   "metadata": {},
   "outputs": [],
   "source": [
    "\n",
    "    "
   ]
  },
  {
   "cell_type": "code",
   "execution_count": null,
   "id": "0bf424eb-f0cf-464a-a61f-4fcfcdf02c6e",
   "metadata": {},
   "outputs": [],
   "source": []
  }
 ],
 "metadata": {
  "kernelspec": {
   "display_name": "Python 3 (ipykernel)",
   "language": "python",
   "name": "python3"
  },
  "language_info": {
   "codemirror_mode": {
    "name": "ipython",
    "version": 3
   },
   "file_extension": ".py",
   "mimetype": "text/x-python",
   "name": "python",
   "nbconvert_exporter": "python",
   "pygments_lexer": "ipython3",
   "version": "3.11.7"
  }
 },
 "nbformat": 4,
 "nbformat_minor": 5
}
